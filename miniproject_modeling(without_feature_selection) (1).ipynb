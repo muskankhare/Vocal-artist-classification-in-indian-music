{
  "nbformat": 4,
  "nbformat_minor": 0,
  "metadata": {
    "colab": {
      "provenance": []
    },
    "kernelspec": {
      "name": "python3",
      "display_name": "Python 3"
    },
    "language_info": {
      "name": "python"
    }
  },
  "cells": [
    {
      "cell_type": "markdown",
      "source": [
        "#Importing Libraries"
      ],
      "metadata": {
        "id": "6k3ai1kITQGT"
      }
    },
    {
      "cell_type": "code",
      "execution_count": 13,
      "metadata": {
        "id": "RNPNRLWtTKr0"
      },
      "outputs": [],
      "source": [
        "import pandas as pd\n",
        "import numpy as np\n",
        "from sklearn.preprocessing import LabelEncoder\n",
        "from sklearn.model_selection import train_test_split\n",
        "from sklearn.utils import shuffle\n",
        "from sklearn.preprocessing import StandardScaler\n",
        "from sklearn.linear_model import LinearRegression\n",
        "import warnings\n",
        "warnings.filterwarnings(\"ignore\")\n"
      ]
    },
    {
      "cell_type": "markdown",
      "source": [
        "#Loading Dataset"
      ],
      "metadata": {
        "id": "EbqFDQLsTafK"
      }
    },
    {
      "cell_type": "code",
      "source": [
        "df = pd.read_csv('/content/merged_file2.csv')"
      ],
      "metadata": {
        "id": "Fvbqdx1HTX15"
      },
      "execution_count": 2,
      "outputs": []
    },
    {
      "cell_type": "code",
      "source": [
        "df.head()"
      ],
      "metadata": {
        "colab": {
          "base_uri": "https://localhost:8080/",
          "height": 359
        },
        "id": "HCgYgH27TeLe",
        "outputId": "9d5e7ab4-3680-413c-f865-545fb08b0a9d"
      },
      "execution_count": 3,
      "outputs": [
        {
          "output_type": "execute_result",
          "data": {
            "text/plain": [
              "   onset_strength  chroma_stft  chroma_cqt  chroma_cens  melspectrogram  \\\n",
              "0        1.166610     0.222790    0.236665     0.188930        4.951307   \n",
              "1        1.119346     0.204452    0.224101     0.188567        5.378464   \n",
              "2        1.094491     0.251022    0.226141     0.181547        2.794210   \n",
              "3        1.005489     0.226060    0.211988     0.182111        5.619192   \n",
              "4        1.084786     0.254372    0.258660     0.198609        4.755458   \n",
              "\n",
              "        mfcc  spectral_centroid  spectral_bandwidth  spectral_contrast  \\\n",
              "0 -23.728514        2212.803596         2378.233273          28.160184   \n",
              "1 -22.367577        1894.191035         2370.518595          29.645531   \n",
              "2 -22.680693        2211.299555         2602.682457          27.774650   \n",
              "3 -23.894613        2241.890274         2291.395171          28.242198   \n",
              "4 -24.306395        1927.596019         2006.408646          28.594260   \n",
              "\n",
              "   spectral_rolloff  ...  log_rel_pitch_F1_F2  log_rel_pitch_F1_F3  \\\n",
              "0       4241.666308  ...             9.149949            19.938778   \n",
              "1       3948.045346  ...            12.671179            19.014812   \n",
              "2       4750.669263  ...            12.778128            19.516304   \n",
              "3       4229.026168  ...             9.799430             8.490372   \n",
              "4       3283.039081  ...             7.490228            13.162914   \n",
              "\n",
              "   F1_frequency  F1_bandwidth  F1_amplitude_wrt_pitch  F2_frequency  \\\n",
              "0    592.739624   1324.491455                1.036228   1528.459106   \n",
              "1    549.956848   1277.017578                0.757279   1477.498779   \n",
              "2    610.751221   1296.460327               -6.386609   1635.023560   \n",
              "3    756.456299   1205.238159               -5.809905   1716.402832   \n",
              "4    721.407227   1353.933960               -3.686828   1633.766602   \n",
              "\n",
              "   F2_amplitude_wrt_pitch  F3_frequency  F3_amplitude_wrt_pitch  vocal artist  \n",
              "0               -3.987155   2584.722900              -13.741380  Arijit Singh  \n",
              "1               -5.540631   2599.384033              -15.091183  Arijit Singh  \n",
              "2              -16.382030   2615.964600              -21.542931  Arijit Singh  \n",
              "3               -6.918570   2707.395752              -10.454976  Arijit Singh  \n",
              "4               -8.455423   2616.466309              -14.321383  Arijit Singh  \n",
              "\n",
              "[5 rows x 33 columns]"
            ],
            "text/html": [
              "\n",
              "  <div id=\"df-c5e0ffed-66fd-4a28-9ef5-5a19c7c83661\" class=\"colab-df-container\">\n",
              "    <div>\n",
              "<style scoped>\n",
              "    .dataframe tbody tr th:only-of-type {\n",
              "        vertical-align: middle;\n",
              "    }\n",
              "\n",
              "    .dataframe tbody tr th {\n",
              "        vertical-align: top;\n",
              "    }\n",
              "\n",
              "    .dataframe thead th {\n",
              "        text-align: right;\n",
              "    }\n",
              "</style>\n",
              "<table border=\"1\" class=\"dataframe\">\n",
              "  <thead>\n",
              "    <tr style=\"text-align: right;\">\n",
              "      <th></th>\n",
              "      <th>onset_strength</th>\n",
              "      <th>chroma_stft</th>\n",
              "      <th>chroma_cqt</th>\n",
              "      <th>chroma_cens</th>\n",
              "      <th>melspectrogram</th>\n",
              "      <th>mfcc</th>\n",
              "      <th>spectral_centroid</th>\n",
              "      <th>spectral_bandwidth</th>\n",
              "      <th>spectral_contrast</th>\n",
              "      <th>spectral_rolloff</th>\n",
              "      <th>...</th>\n",
              "      <th>log_rel_pitch_F1_F2</th>\n",
              "      <th>log_rel_pitch_F1_F3</th>\n",
              "      <th>F1_frequency</th>\n",
              "      <th>F1_bandwidth</th>\n",
              "      <th>F1_amplitude_wrt_pitch</th>\n",
              "      <th>F2_frequency</th>\n",
              "      <th>F2_amplitude_wrt_pitch</th>\n",
              "      <th>F3_frequency</th>\n",
              "      <th>F3_amplitude_wrt_pitch</th>\n",
              "      <th>vocal artist</th>\n",
              "    </tr>\n",
              "  </thead>\n",
              "  <tbody>\n",
              "    <tr>\n",
              "      <th>0</th>\n",
              "      <td>1.166610</td>\n",
              "      <td>0.222790</td>\n",
              "      <td>0.236665</td>\n",
              "      <td>0.188930</td>\n",
              "      <td>4.951307</td>\n",
              "      <td>-23.728514</td>\n",
              "      <td>2212.803596</td>\n",
              "      <td>2378.233273</td>\n",
              "      <td>28.160184</td>\n",
              "      <td>4241.666308</td>\n",
              "      <td>...</td>\n",
              "      <td>9.149949</td>\n",
              "      <td>19.938778</td>\n",
              "      <td>592.739624</td>\n",
              "      <td>1324.491455</td>\n",
              "      <td>1.036228</td>\n",
              "      <td>1528.459106</td>\n",
              "      <td>-3.987155</td>\n",
              "      <td>2584.722900</td>\n",
              "      <td>-13.741380</td>\n",
              "      <td>Arijit Singh</td>\n",
              "    </tr>\n",
              "    <tr>\n",
              "      <th>1</th>\n",
              "      <td>1.119346</td>\n",
              "      <td>0.204452</td>\n",
              "      <td>0.224101</td>\n",
              "      <td>0.188567</td>\n",
              "      <td>5.378464</td>\n",
              "      <td>-22.367577</td>\n",
              "      <td>1894.191035</td>\n",
              "      <td>2370.518595</td>\n",
              "      <td>29.645531</td>\n",
              "      <td>3948.045346</td>\n",
              "      <td>...</td>\n",
              "      <td>12.671179</td>\n",
              "      <td>19.014812</td>\n",
              "      <td>549.956848</td>\n",
              "      <td>1277.017578</td>\n",
              "      <td>0.757279</td>\n",
              "      <td>1477.498779</td>\n",
              "      <td>-5.540631</td>\n",
              "      <td>2599.384033</td>\n",
              "      <td>-15.091183</td>\n",
              "      <td>Arijit Singh</td>\n",
              "    </tr>\n",
              "    <tr>\n",
              "      <th>2</th>\n",
              "      <td>1.094491</td>\n",
              "      <td>0.251022</td>\n",
              "      <td>0.226141</td>\n",
              "      <td>0.181547</td>\n",
              "      <td>2.794210</td>\n",
              "      <td>-22.680693</td>\n",
              "      <td>2211.299555</td>\n",
              "      <td>2602.682457</td>\n",
              "      <td>27.774650</td>\n",
              "      <td>4750.669263</td>\n",
              "      <td>...</td>\n",
              "      <td>12.778128</td>\n",
              "      <td>19.516304</td>\n",
              "      <td>610.751221</td>\n",
              "      <td>1296.460327</td>\n",
              "      <td>-6.386609</td>\n",
              "      <td>1635.023560</td>\n",
              "      <td>-16.382030</td>\n",
              "      <td>2615.964600</td>\n",
              "      <td>-21.542931</td>\n",
              "      <td>Arijit Singh</td>\n",
              "    </tr>\n",
              "    <tr>\n",
              "      <th>3</th>\n",
              "      <td>1.005489</td>\n",
              "      <td>0.226060</td>\n",
              "      <td>0.211988</td>\n",
              "      <td>0.182111</td>\n",
              "      <td>5.619192</td>\n",
              "      <td>-23.894613</td>\n",
              "      <td>2241.890274</td>\n",
              "      <td>2291.395171</td>\n",
              "      <td>28.242198</td>\n",
              "      <td>4229.026168</td>\n",
              "      <td>...</td>\n",
              "      <td>9.799430</td>\n",
              "      <td>8.490372</td>\n",
              "      <td>756.456299</td>\n",
              "      <td>1205.238159</td>\n",
              "      <td>-5.809905</td>\n",
              "      <td>1716.402832</td>\n",
              "      <td>-6.918570</td>\n",
              "      <td>2707.395752</td>\n",
              "      <td>-10.454976</td>\n",
              "      <td>Arijit Singh</td>\n",
              "    </tr>\n",
              "    <tr>\n",
              "      <th>4</th>\n",
              "      <td>1.084786</td>\n",
              "      <td>0.254372</td>\n",
              "      <td>0.258660</td>\n",
              "      <td>0.198609</td>\n",
              "      <td>4.755458</td>\n",
              "      <td>-24.306395</td>\n",
              "      <td>1927.596019</td>\n",
              "      <td>2006.408646</td>\n",
              "      <td>28.594260</td>\n",
              "      <td>3283.039081</td>\n",
              "      <td>...</td>\n",
              "      <td>7.490228</td>\n",
              "      <td>13.162914</td>\n",
              "      <td>721.407227</td>\n",
              "      <td>1353.933960</td>\n",
              "      <td>-3.686828</td>\n",
              "      <td>1633.766602</td>\n",
              "      <td>-8.455423</td>\n",
              "      <td>2616.466309</td>\n",
              "      <td>-14.321383</td>\n",
              "      <td>Arijit Singh</td>\n",
              "    </tr>\n",
              "  </tbody>\n",
              "</table>\n",
              "<p>5 rows × 33 columns</p>\n",
              "</div>\n",
              "    <div class=\"colab-df-buttons\">\n",
              "\n",
              "  <div class=\"colab-df-container\">\n",
              "    <button class=\"colab-df-convert\" onclick=\"convertToInteractive('df-c5e0ffed-66fd-4a28-9ef5-5a19c7c83661')\"\n",
              "            title=\"Convert this dataframe to an interactive table.\"\n",
              "            style=\"display:none;\">\n",
              "\n",
              "  <svg xmlns=\"http://www.w3.org/2000/svg\" height=\"24px\" viewBox=\"0 -960 960 960\">\n",
              "    <path d=\"M120-120v-720h720v720H120Zm60-500h600v-160H180v160Zm220 220h160v-160H400v160Zm0 220h160v-160H400v160ZM180-400h160v-160H180v160Zm440 0h160v-160H620v160ZM180-180h160v-160H180v160Zm440 0h160v-160H620v160Z\"/>\n",
              "  </svg>\n",
              "    </button>\n",
              "\n",
              "  <style>\n",
              "    .colab-df-container {\n",
              "      display:flex;\n",
              "      gap: 12px;\n",
              "    }\n",
              "\n",
              "    .colab-df-convert {\n",
              "      background-color: #E8F0FE;\n",
              "      border: none;\n",
              "      border-radius: 50%;\n",
              "      cursor: pointer;\n",
              "      display: none;\n",
              "      fill: #1967D2;\n",
              "      height: 32px;\n",
              "      padding: 0 0 0 0;\n",
              "      width: 32px;\n",
              "    }\n",
              "\n",
              "    .colab-df-convert:hover {\n",
              "      background-color: #E2EBFA;\n",
              "      box-shadow: 0px 1px 2px rgba(60, 64, 67, 0.3), 0px 1px 3px 1px rgba(60, 64, 67, 0.15);\n",
              "      fill: #174EA6;\n",
              "    }\n",
              "\n",
              "    .colab-df-buttons div {\n",
              "      margin-bottom: 4px;\n",
              "    }\n",
              "\n",
              "    [theme=dark] .colab-df-convert {\n",
              "      background-color: #3B4455;\n",
              "      fill: #D2E3FC;\n",
              "    }\n",
              "\n",
              "    [theme=dark] .colab-df-convert:hover {\n",
              "      background-color: #434B5C;\n",
              "      box-shadow: 0px 1px 3px 1px rgba(0, 0, 0, 0.15);\n",
              "      filter: drop-shadow(0px 1px 2px rgba(0, 0, 0, 0.3));\n",
              "      fill: #FFFFFF;\n",
              "    }\n",
              "  </style>\n",
              "\n",
              "    <script>\n",
              "      const buttonEl =\n",
              "        document.querySelector('#df-c5e0ffed-66fd-4a28-9ef5-5a19c7c83661 button.colab-df-convert');\n",
              "      buttonEl.style.display =\n",
              "        google.colab.kernel.accessAllowed ? 'block' : 'none';\n",
              "\n",
              "      async function convertToInteractive(key) {\n",
              "        const element = document.querySelector('#df-c5e0ffed-66fd-4a28-9ef5-5a19c7c83661');\n",
              "        const dataTable =\n",
              "          await google.colab.kernel.invokeFunction('convertToInteractive',\n",
              "                                                    [key], {});\n",
              "        if (!dataTable) return;\n",
              "\n",
              "        const docLinkHtml = 'Like what you see? Visit the ' +\n",
              "          '<a target=\"_blank\" href=https://colab.research.google.com/notebooks/data_table.ipynb>data table notebook</a>'\n",
              "          + ' to learn more about interactive tables.';\n",
              "        element.innerHTML = '';\n",
              "        dataTable['output_type'] = 'display_data';\n",
              "        await google.colab.output.renderOutput(dataTable, element);\n",
              "        const docLink = document.createElement('div');\n",
              "        docLink.innerHTML = docLinkHtml;\n",
              "        element.appendChild(docLink);\n",
              "      }\n",
              "    </script>\n",
              "  </div>\n",
              "\n",
              "\n",
              "<div id=\"df-cd909220-23d2-499f-a1e0-1cb43431b775\">\n",
              "  <button class=\"colab-df-quickchart\" onclick=\"quickchart('df-cd909220-23d2-499f-a1e0-1cb43431b775')\"\n",
              "            title=\"Suggest charts\"\n",
              "            style=\"display:none;\">\n",
              "\n",
              "<svg xmlns=\"http://www.w3.org/2000/svg\" height=\"24px\"viewBox=\"0 0 24 24\"\n",
              "     width=\"24px\">\n",
              "    <g>\n",
              "        <path d=\"M19 3H5c-1.1 0-2 .9-2 2v14c0 1.1.9 2 2 2h14c1.1 0 2-.9 2-2V5c0-1.1-.9-2-2-2zM9 17H7v-7h2v7zm4 0h-2V7h2v10zm4 0h-2v-4h2v4z\"/>\n",
              "    </g>\n",
              "</svg>\n",
              "  </button>\n",
              "\n",
              "<style>\n",
              "  .colab-df-quickchart {\n",
              "      --bg-color: #E8F0FE;\n",
              "      --fill-color: #1967D2;\n",
              "      --hover-bg-color: #E2EBFA;\n",
              "      --hover-fill-color: #174EA6;\n",
              "      --disabled-fill-color: #AAA;\n",
              "      --disabled-bg-color: #DDD;\n",
              "  }\n",
              "\n",
              "  [theme=dark] .colab-df-quickchart {\n",
              "      --bg-color: #3B4455;\n",
              "      --fill-color: #D2E3FC;\n",
              "      --hover-bg-color: #434B5C;\n",
              "      --hover-fill-color: #FFFFFF;\n",
              "      --disabled-bg-color: #3B4455;\n",
              "      --disabled-fill-color: #666;\n",
              "  }\n",
              "\n",
              "  .colab-df-quickchart {\n",
              "    background-color: var(--bg-color);\n",
              "    border: none;\n",
              "    border-radius: 50%;\n",
              "    cursor: pointer;\n",
              "    display: none;\n",
              "    fill: var(--fill-color);\n",
              "    height: 32px;\n",
              "    padding: 0;\n",
              "    width: 32px;\n",
              "  }\n",
              "\n",
              "  .colab-df-quickchart:hover {\n",
              "    background-color: var(--hover-bg-color);\n",
              "    box-shadow: 0 1px 2px rgba(60, 64, 67, 0.3), 0 1px 3px 1px rgba(60, 64, 67, 0.15);\n",
              "    fill: var(--button-hover-fill-color);\n",
              "  }\n",
              "\n",
              "  .colab-df-quickchart-complete:disabled,\n",
              "  .colab-df-quickchart-complete:disabled:hover {\n",
              "    background-color: var(--disabled-bg-color);\n",
              "    fill: var(--disabled-fill-color);\n",
              "    box-shadow: none;\n",
              "  }\n",
              "\n",
              "  .colab-df-spinner {\n",
              "    border: 2px solid var(--fill-color);\n",
              "    border-color: transparent;\n",
              "    border-bottom-color: var(--fill-color);\n",
              "    animation:\n",
              "      spin 1s steps(1) infinite;\n",
              "  }\n",
              "\n",
              "  @keyframes spin {\n",
              "    0% {\n",
              "      border-color: transparent;\n",
              "      border-bottom-color: var(--fill-color);\n",
              "      border-left-color: var(--fill-color);\n",
              "    }\n",
              "    20% {\n",
              "      border-color: transparent;\n",
              "      border-left-color: var(--fill-color);\n",
              "      border-top-color: var(--fill-color);\n",
              "    }\n",
              "    30% {\n",
              "      border-color: transparent;\n",
              "      border-left-color: var(--fill-color);\n",
              "      border-top-color: var(--fill-color);\n",
              "      border-right-color: var(--fill-color);\n",
              "    }\n",
              "    40% {\n",
              "      border-color: transparent;\n",
              "      border-right-color: var(--fill-color);\n",
              "      border-top-color: var(--fill-color);\n",
              "    }\n",
              "    60% {\n",
              "      border-color: transparent;\n",
              "      border-right-color: var(--fill-color);\n",
              "    }\n",
              "    80% {\n",
              "      border-color: transparent;\n",
              "      border-right-color: var(--fill-color);\n",
              "      border-bottom-color: var(--fill-color);\n",
              "    }\n",
              "    90% {\n",
              "      border-color: transparent;\n",
              "      border-bottom-color: var(--fill-color);\n",
              "    }\n",
              "  }\n",
              "</style>\n",
              "\n",
              "  <script>\n",
              "    async function quickchart(key) {\n",
              "      const quickchartButtonEl =\n",
              "        document.querySelector('#' + key + ' button');\n",
              "      quickchartButtonEl.disabled = true;  // To prevent multiple clicks.\n",
              "      quickchartButtonEl.classList.add('colab-df-spinner');\n",
              "      try {\n",
              "        const charts = await google.colab.kernel.invokeFunction(\n",
              "            'suggestCharts', [key], {});\n",
              "      } catch (error) {\n",
              "        console.error('Error during call to suggestCharts:', error);\n",
              "      }\n",
              "      quickchartButtonEl.classList.remove('colab-df-spinner');\n",
              "      quickchartButtonEl.classList.add('colab-df-quickchart-complete');\n",
              "    }\n",
              "    (() => {\n",
              "      let quickchartButtonEl =\n",
              "        document.querySelector('#df-cd909220-23d2-499f-a1e0-1cb43431b775 button');\n",
              "      quickchartButtonEl.style.display =\n",
              "        google.colab.kernel.accessAllowed ? 'block' : 'none';\n",
              "    })();\n",
              "  </script>\n",
              "</div>\n",
              "    </div>\n",
              "  </div>\n"
            ]
          },
          "metadata": {},
          "execution_count": 3
        }
      ]
    },
    {
      "cell_type": "code",
      "source": [
        "df.columns"
      ],
      "metadata": {
        "colab": {
          "base_uri": "https://localhost:8080/"
        },
        "id": "3XTW_SfqTqxD",
        "outputId": "00edf5a8-9198-4367-ae2d-1d4ce8303533"
      },
      "execution_count": 4,
      "outputs": [
        {
          "output_type": "execute_result",
          "data": {
            "text/plain": [
              "Index(['onset_strength', 'chroma_stft', 'chroma_cqt', 'chroma_cens',\n",
              "       'melspectrogram', 'mfcc', 'spectral_centroid', 'spectral_bandwidth',\n",
              "       'spectral_contrast', 'spectral_rolloff', 'tonnetz',\n",
              "       'zero_crossing_rate', 'rms', 'spectral_entropy', 'loudness',\n",
              "       'alpha_ratio', 'hammarberg_index', 'spectral_slope_0_500',\n",
              "       'spectral_slope_500_1500', 'pitch', 'pitch_variation',\n",
              "       'amplitude_variation', 'harmonic_to_noise_ratio', 'log_rel_pitch_F1_F2',\n",
              "       'log_rel_pitch_F1_F3', 'F1_frequency', 'F1_bandwidth',\n",
              "       'F1_amplitude_wrt_pitch', 'F2_frequency', 'F2_amplitude_wrt_pitch',\n",
              "       'F3_frequency', 'F3_amplitude_wrt_pitch', 'vocal artist'],\n",
              "      dtype='object')"
            ]
          },
          "metadata": {},
          "execution_count": 4
        }
      ]
    },
    {
      "cell_type": "markdown",
      "source": [
        "#Preprocessing"
      ],
      "metadata": {
        "id": "C8_-gbvQUU8u"
      }
    },
    {
      "cell_type": "code",
      "source": [
        "df.info()"
      ],
      "metadata": {
        "colab": {
          "base_uri": "https://localhost:8080/"
        },
        "id": "9RL6qpqrUuAL",
        "outputId": "0d999a5c-7e73-4f7b-caa3-d993d137d3cd"
      },
      "execution_count": 5,
      "outputs": [
        {
          "output_type": "stream",
          "name": "stdout",
          "text": [
            "<class 'pandas.core.frame.DataFrame'>\n",
            "RangeIndex: 720 entries, 0 to 719\n",
            "Data columns (total 33 columns):\n",
            " #   Column                   Non-Null Count  Dtype  \n",
            "---  ------                   --------------  -----  \n",
            " 0   onset_strength           720 non-null    float64\n",
            " 1   chroma_stft              720 non-null    float64\n",
            " 2   chroma_cqt               720 non-null    float64\n",
            " 3   chroma_cens              720 non-null    float64\n",
            " 4   melspectrogram           720 non-null    float64\n",
            " 5   mfcc                     720 non-null    float64\n",
            " 6   spectral_centroid        720 non-null    float64\n",
            " 7   spectral_bandwidth       720 non-null    float64\n",
            " 8   spectral_contrast        720 non-null    float64\n",
            " 9   spectral_rolloff         720 non-null    float64\n",
            " 10  tonnetz                  720 non-null    float64\n",
            " 11  zero_crossing_rate       720 non-null    float64\n",
            " 12  rms                      720 non-null    float64\n",
            " 13  spectral_entropy         720 non-null    float64\n",
            " 14  loudness                 720 non-null    float64\n",
            " 15  alpha_ratio              720 non-null    float64\n",
            " 16  hammarberg_index         720 non-null    float64\n",
            " 17  spectral_slope_0_500     720 non-null    float64\n",
            " 18  spectral_slope_500_1500  720 non-null    float64\n",
            " 19  pitch                    720 non-null    float64\n",
            " 20  pitch_variation          720 non-null    float64\n",
            " 21  amplitude_variation      720 non-null    float64\n",
            " 22  harmonic_to_noise_ratio  720 non-null    float64\n",
            " 23  log_rel_pitch_F1_F2      720 non-null    float64\n",
            " 24  log_rel_pitch_F1_F3      720 non-null    float64\n",
            " 25  F1_frequency             720 non-null    float64\n",
            " 26  F1_bandwidth             720 non-null    float64\n",
            " 27  F1_amplitude_wrt_pitch   720 non-null    float64\n",
            " 28  F2_frequency             720 non-null    float64\n",
            " 29  F2_amplitude_wrt_pitch   720 non-null    float64\n",
            " 30  F3_frequency             720 non-null    float64\n",
            " 31  F3_amplitude_wrt_pitch   720 non-null    float64\n",
            " 32  vocal artist             720 non-null    object \n",
            "dtypes: float64(32), object(1)\n",
            "memory usage: 185.8+ KB\n"
          ]
        }
      ]
    },
    {
      "cell_type": "code",
      "source": [
        "df.isnull().sum()"
      ],
      "metadata": {
        "colab": {
          "base_uri": "https://localhost:8080/"
        },
        "id": "1bLTnAcfTuxI",
        "outputId": "b689ef12-b7d8-48c3-d8c9-0530ff412eaa"
      },
      "execution_count": 6,
      "outputs": [
        {
          "output_type": "execute_result",
          "data": {
            "text/plain": [
              "onset_strength             0\n",
              "chroma_stft                0\n",
              "chroma_cqt                 0\n",
              "chroma_cens                0\n",
              "melspectrogram             0\n",
              "mfcc                       0\n",
              "spectral_centroid          0\n",
              "spectral_bandwidth         0\n",
              "spectral_contrast          0\n",
              "spectral_rolloff           0\n",
              "tonnetz                    0\n",
              "zero_crossing_rate         0\n",
              "rms                        0\n",
              "spectral_entropy           0\n",
              "loudness                   0\n",
              "alpha_ratio                0\n",
              "hammarberg_index           0\n",
              "spectral_slope_0_500       0\n",
              "spectral_slope_500_1500    0\n",
              "pitch                      0\n",
              "pitch_variation            0\n",
              "amplitude_variation        0\n",
              "harmonic_to_noise_ratio    0\n",
              "log_rel_pitch_F1_F2        0\n",
              "log_rel_pitch_F1_F3        0\n",
              "F1_frequency               0\n",
              "F1_bandwidth               0\n",
              "F1_amplitude_wrt_pitch     0\n",
              "F2_frequency               0\n",
              "F2_amplitude_wrt_pitch     0\n",
              "F3_frequency               0\n",
              "F3_amplitude_wrt_pitch     0\n",
              "vocal artist               0\n",
              "dtype: int64"
            ]
          },
          "metadata": {},
          "execution_count": 6
        }
      ]
    },
    {
      "cell_type": "markdown",
      "source": [
        "#Encoding categorical variables"
      ],
      "metadata": {
        "id": "IbV-K1UNUcd6"
      }
    },
    {
      "cell_type": "code",
      "source": [
        "# Initialize the LabelEncoder\n",
        "label_encoder = LabelEncoder()\n",
        "\n",
        "# Fit and transform the 'Category' column\n",
        "df['vocal artist_encoded'] = label_encoder.fit_transform(df['vocal artist'])"
      ],
      "metadata": {
        "id": "fvzHmkf5T9Ix"
      },
      "execution_count": 7,
      "outputs": []
    },
    {
      "cell_type": "code",
      "source": [
        "df.info()"
      ],
      "metadata": {
        "colab": {
          "base_uri": "https://localhost:8080/"
        },
        "id": "Jb9Rx45hU2zn",
        "outputId": "6192f92b-1a27-465c-c322-fe5e2b908e59"
      },
      "execution_count": 8,
      "outputs": [
        {
          "output_type": "stream",
          "name": "stdout",
          "text": [
            "<class 'pandas.core.frame.DataFrame'>\n",
            "RangeIndex: 720 entries, 0 to 719\n",
            "Data columns (total 34 columns):\n",
            " #   Column                   Non-Null Count  Dtype  \n",
            "---  ------                   --------------  -----  \n",
            " 0   onset_strength           720 non-null    float64\n",
            " 1   chroma_stft              720 non-null    float64\n",
            " 2   chroma_cqt               720 non-null    float64\n",
            " 3   chroma_cens              720 non-null    float64\n",
            " 4   melspectrogram           720 non-null    float64\n",
            " 5   mfcc                     720 non-null    float64\n",
            " 6   spectral_centroid        720 non-null    float64\n",
            " 7   spectral_bandwidth       720 non-null    float64\n",
            " 8   spectral_contrast        720 non-null    float64\n",
            " 9   spectral_rolloff         720 non-null    float64\n",
            " 10  tonnetz                  720 non-null    float64\n",
            " 11  zero_crossing_rate       720 non-null    float64\n",
            " 12  rms                      720 non-null    float64\n",
            " 13  spectral_entropy         720 non-null    float64\n",
            " 14  loudness                 720 non-null    float64\n",
            " 15  alpha_ratio              720 non-null    float64\n",
            " 16  hammarberg_index         720 non-null    float64\n",
            " 17  spectral_slope_0_500     720 non-null    float64\n",
            " 18  spectral_slope_500_1500  720 non-null    float64\n",
            " 19  pitch                    720 non-null    float64\n",
            " 20  pitch_variation          720 non-null    float64\n",
            " 21  amplitude_variation      720 non-null    float64\n",
            " 22  harmonic_to_noise_ratio  720 non-null    float64\n",
            " 23  log_rel_pitch_F1_F2      720 non-null    float64\n",
            " 24  log_rel_pitch_F1_F3      720 non-null    float64\n",
            " 25  F1_frequency             720 non-null    float64\n",
            " 26  F1_bandwidth             720 non-null    float64\n",
            " 27  F1_amplitude_wrt_pitch   720 non-null    float64\n",
            " 28  F2_frequency             720 non-null    float64\n",
            " 29  F2_amplitude_wrt_pitch   720 non-null    float64\n",
            " 30  F3_frequency             720 non-null    float64\n",
            " 31  F3_amplitude_wrt_pitch   720 non-null    float64\n",
            " 32  vocal artist             720 non-null    object \n",
            " 33  vocal artist_encoded     720 non-null    int64  \n",
            "dtypes: float64(32), int64(1), object(1)\n",
            "memory usage: 191.4+ KB\n"
          ]
        }
      ]
    },
    {
      "cell_type": "markdown",
      "source": [
        "#Splitting the dataset"
      ],
      "metadata": {
        "id": "0Uuuf64NVNE-"
      }
    },
    {
      "cell_type": "code",
      "source": [
        "data = df.copy()"
      ],
      "metadata": {
        "id": "liGfX0sSVhd5"
      },
      "execution_count": 9,
      "outputs": []
    },
    {
      "cell_type": "code",
      "source": [
        "# Separate features and target\n",
        "X = df.drop(['vocal artist', 'vocal artist_encoded'], axis=1)\n",
        "y = df['vocal artist_encoded']\n",
        "\n",
        "# Shuffle the data to ensure randomness\n",
        "X, y = shuffle(X, y, random_state=42)\n",
        "\n",
        "# Split the data into training and testing sets with a stratified split\n",
        "# Stratified sampling ensures an equal distribution of classes in both sets\n",
        "X_train, X_test, y_train, y_test = train_test_split(X, y, test_size=0.10, stratify=y, random_state=42)\n",
        "\n",
        "# Check the class distribution in training and testing sets\n",
        "print(\"Class distribution in training set:\", {class_label: sum(y_train == class_label) for class_label in set(y_train)})\n",
        "print(\"Class distribution in testing set:\", {class_label: sum(y_test == class_label) for class_label in set(y_test)})\n"
      ],
      "metadata": {
        "colab": {
          "base_uri": "https://localhost:8080/"
        },
        "id": "aJHKsOlKU5fO",
        "outputId": "c3d826fe-524b-4317-cdf3-fd7d83a88dca"
      },
      "execution_count": 10,
      "outputs": [
        {
          "output_type": "stream",
          "name": "stdout",
          "text": [
            "Class distribution in training set: {0: 54, 1: 54, 2: 54, 3: 54, 4: 54, 5: 54, 6: 54, 7: 54, 8: 54, 9: 54, 10: 54, 11: 54}\n",
            "Class distribution in testing set: {0: 6, 1: 6, 2: 6, 3: 6, 4: 6, 5: 6, 6: 6, 7: 6, 8: 6, 9: 6, 10: 6, 11: 6}\n"
          ]
        }
      ]
    },
    {
      "cell_type": "markdown",
      "source": [
        "#Feature Scaling"
      ],
      "metadata": {
        "id": "Wg1uV-7xWaux"
      }
    },
    {
      "cell_type": "code",
      "source": [
        "scaler = StandardScaler()\n",
        "X_train = scaler.fit_transform(X_train)\n",
        "X_test = scaler.fit_transform(X_test)"
      ],
      "metadata": {
        "id": "AeThiujZWFSF"
      },
      "execution_count": 11,
      "outputs": []
    },
    {
      "cell_type": "markdown",
      "source": [
        "#Feature Selection"
      ],
      "metadata": {
        "id": "UHoeR1wHX7ZV"
      }
    },
    {
      "cell_type": "markdown",
      "source": [
        "We used all features for the first round"
      ],
      "metadata": {
        "id": "hpO-_mxBn5Am"
      }
    },
    {
      "cell_type": "markdown",
      "source": [
        "#Modeling"
      ],
      "metadata": {
        "id": "lN_vpBrOhLJq"
      }
    },
    {
      "cell_type": "markdown",
      "source": [
        "##ML models"
      ],
      "metadata": {
        "id": "WK5dQ_nxnNh6"
      }
    },
    {
      "cell_type": "code",
      "source": [
        "from sklearn.model_selection import train_test_split, GridSearchCV\n",
        "from sklearn.pipeline import Pipeline\n",
        "from sklearn.preprocessing import StandardScaler\n",
        "from sklearn.linear_model import LogisticRegression\n",
        "from sklearn.neighbors import KNeighborsClassifier\n",
        "from sklearn.tree import DecisionTreeClassifier\n",
        "from sklearn.ensemble import RandomForestClassifier\n",
        "from sklearn.svm import SVC\n",
        "from xgboost import XGBClassifier\n",
        "from sklearn.metrics import accuracy_score\n",
        "\n",
        "\n",
        "#Create a machine learning pipeline with hyperparameter tuning\n",
        "classifiers = {\n",
        "    'Logistic Regression': LogisticRegression(),\n",
        "    'KNN': KNeighborsClassifier(),\n",
        "    'Decision Tree': DecisionTreeClassifier(),\n",
        "    'Random Forest': RandomForestClassifier(),\n",
        "    'SVM': SVC(),\n",
        "    'XGBoost': XGBClassifier()\n",
        "}\n",
        "\n",
        "results = {}\n",
        "\n",
        "for clf_name, clf in classifiers.items():\n",
        "    pipeline = Pipeline([\n",
        "        ('scaler', StandardScaler()),  # Standardize features\n",
        "        ('classifier', clf)  # Classifier\n",
        "    ])\n",
        "\n",
        "    # Define hyperparameters for tuning\n",
        "    hyperparameters = {}\n",
        "\n",
        "    # Add hyperparameter grid for specific classifiers\n",
        "    if clf_name == 'Logistic Regression':\n",
        "        hyperparameters = {\n",
        "            'classifier__C': [0.001, 0.01, 0.1, 1, 10, 100],\n",
        "            'classifier__max_iter': [100, 200, 300, 500],\n",
        "            'classifier__multi_class': ['ovr', 'multinomial'],\n",
        "            'classifier__solver': ['lbfgs', 'saga']\n",
        "        }\n",
        "    elif clf_name == 'KNN':\n",
        "        hyperparameters = {'classifier__n_neighbors': [3, 5, 7]}\n",
        "    elif clf_name == 'Decision Tree':\n",
        "        hyperparameters = {'classifier__max_depth': [None, 10, 20, 30]}\n",
        "    elif clf_name == 'Random Forest':\n",
        "        hyperparameters = {'classifier__n_estimators': [50, 100, 200]}\n",
        "    elif clf_name == 'SVM':\n",
        "        hyperparameters = {'classifier__C': [0.1, 1, 10], 'classifier__kernel': ['linear', 'rbf']}\n",
        "    elif clf_name == 'XGBoost':\n",
        "        hyperparameters = {'classifier__n_estimators': [50, 100, 200]}\n",
        "\n",
        "    # Perform grid search with cross-validation\n",
        "    grid_search = GridSearchCV(pipeline, hyperparameters, cv=5, scoring='accuracy')\n",
        "    grid_search.fit(X_train, y_train)\n",
        "\n",
        "    # Get best model\n",
        "    best_model = grid_search.best_estimator_\n",
        "\n",
        "    # Step 3: Train the model\n",
        "    best_model.fit(X_train, y_train)\n",
        "\n",
        "    # Step 4: Make predictions\n",
        "    y_train_pred = best_model.predict(X_train)\n",
        "    y_test_pred = best_model.predict(X_test)\n",
        "\n",
        "    # Step 5: Evaluate the model\n",
        "    train_accuracy = accuracy_score(y_train, y_train_pred)\n",
        "    test_accuracy = accuracy_score(y_test, y_test_pred)\n",
        "\n",
        "    results[clf_name] = {'Train Accuracy': train_accuracy, 'Test Accuracy': test_accuracy}\n",
        "\n",
        "# Step 6: Display results\n",
        "for clf_name, accuracies in results.items():\n",
        "    print(f'{clf_name}: Train Accuracy - {accuracies[\"Train Accuracy\"]:.4f}, Test Accuracy - {accuracies[\"Test Accuracy\"]:.4f}')\n",
        "    print(f'Best Parameters: {grid_search.best_params_}')\n"
      ],
      "metadata": {
        "colab": {
          "base_uri": "https://localhost:8080/"
        },
        "id": "fRU0ASidUy5S",
        "outputId": "c6dff57d-2d46-4dd3-852c-958fd6084763"
      },
      "execution_count": 14,
      "outputs": [
        {
          "output_type": "stream",
          "name": "stdout",
          "text": [
            "Logistic Regression: Train Accuracy - 0.7685, Test Accuracy - 0.6111\n",
            "Best Parameters: {'classifier__n_estimators': 200}\n",
            "KNN: Train Accuracy - 0.7809, Test Accuracy - 0.5139\n",
            "Best Parameters: {'classifier__n_estimators': 200}\n",
            "Decision Tree: Train Accuracy - 0.8843, Test Accuracy - 0.3194\n",
            "Best Parameters: {'classifier__n_estimators': 200}\n",
            "Random Forest: Train Accuracy - 1.0000, Test Accuracy - 0.6250\n",
            "Best Parameters: {'classifier__n_estimators': 200}\n",
            "SVM: Train Accuracy - 0.9969, Test Accuracy - 0.6944\n",
            "Best Parameters: {'classifier__n_estimators': 200}\n",
            "XGBoost: Train Accuracy - 1.0000, Test Accuracy - 0.5972\n",
            "Best Parameters: {'classifier__n_estimators': 200}\n"
          ]
        }
      ]
    },
    {
      "cell_type": "markdown",
      "source": [
        "##DEEP LEARNING MODELS"
      ],
      "metadata": {
        "id": "XjZnBlPCjqgG"
      }
    },
    {
      "cell_type": "code",
      "source": [
        "import numpy as np\n",
        "from sklearn.model_selection import train_test_split\n",
        "from sklearn.preprocessing import StandardScaler, LabelEncoder\n",
        "from sklearn.metrics import accuracy_score, classification_report\n",
        "from sklearn.feature_selection import SelectKBest, f_classif\n",
        "from sklearn.neural_network import MLPClassifier\n",
        "from keras.utils import to_categorical\n",
        "from keras import layers, models\n",
        "import tensorflow as tf\n",
        "from sklearn.pipeline import Pipeline"
      ],
      "metadata": {
        "id": "xCM719CBiWPo"
      },
      "execution_count": 15,
      "outputs": []
    },
    {
      "cell_type": "markdown",
      "source": [
        "###ANN Model with 2 hidden layers"
      ],
      "metadata": {
        "id": "MHQCmP6Bj2P-"
      }
    },
    {
      "cell_type": "code",
      "source": [
        "# ANN Model with 2 hidden layers\n",
        "pipeline_2_layers = Pipeline([\n",
        "    ('scaler', StandardScaler()),\n",
        "    ('selector', SelectKBest(f_classif, k=25)),\n",
        "    ('classifier', MLPClassifier(hidden_layer_sizes=(100, 50), max_iter=500, random_state=42))\n",
        "])\n",
        "pipeline_2_layers.fit(X_train, y_train)\n",
        "y_pred_2_layers = pipeline_2_layers.predict(X_test)\n",
        "accuracy_2_layers = accuracy_score(y_test, y_pred_2_layers)\n",
        "print(f'2 Layers Accuracy: {accuracy_2_layers:.4f}')\n"
      ],
      "metadata": {
        "colab": {
          "base_uri": "https://localhost:8080/"
        },
        "id": "cvlfwRpejveG",
        "outputId": "249afff5-f167-43c2-93e6-8abe6708a757"
      },
      "execution_count": 16,
      "outputs": [
        {
          "output_type": "stream",
          "name": "stdout",
          "text": [
            "2 Layers Accuracy: 0.6806\n"
          ]
        }
      ]
    },
    {
      "cell_type": "markdown",
      "source": [
        "###ANN Model with 4 hidden layers"
      ],
      "metadata": {
        "id": "E4bqJ6t0j_4J"
      }
    },
    {
      "cell_type": "code",
      "source": [
        "# ANN Model with 4 hidden layers\n",
        "pipeline_4_layers = Pipeline([\n",
        "    ('scaler', StandardScaler()),\n",
        "    ('selector', SelectKBest(f_classif, k=25)),\n",
        "    ('classifier', MLPClassifier(hidden_layer_sizes=(200, 100, 50, 25), max_iter=500, random_state=42))\n",
        "])\n",
        "pipeline_4_layers.fit(X_train, y_train)\n",
        "y_pred_4_layers = pipeline_4_layers.predict(X_test)\n",
        "accuracy_4_layers = accuracy_score(y_test, y_pred_4_layers)\n",
        "print(f'4 Layers Accuracy: {accuracy_4_layers:.4f}')"
      ],
      "metadata": {
        "colab": {
          "base_uri": "https://localhost:8080/"
        },
        "id": "6Z-BHdVBj5rZ",
        "outputId": "ab402d34-9246-4cb7-b8ad-84c66a751f06"
      },
      "execution_count": 17,
      "outputs": [
        {
          "output_type": "stream",
          "name": "stdout",
          "text": [
            "4 Layers Accuracy: 0.6667\n"
          ]
        }
      ]
    },
    {
      "cell_type": "markdown",
      "source": [
        "###ANN Model with 6 hidden layers"
      ],
      "metadata": {
        "id": "YRC5SSIYkE_u"
      }
    },
    {
      "cell_type": "code",
      "source": [
        "# ANN Model with 6 hidden layers\n",
        "pipeline_6_layers = Pipeline([\n",
        "    ('scaler', StandardScaler()),\n",
        "    ('selector', SelectKBest(f_classif, k=25)),\n",
        "    ('classifier', MLPClassifier(hidden_layer_sizes=(200, 150, 100, 75, 50, 25), max_iter=500, random_state=42))\n",
        "])\n",
        "pipeline_6_layers.fit(X_train, y_train)\n",
        "y_pred_6_layers = pipeline_6_layers.predict(X_test)\n",
        "accuracy_6_layers = accuracy_score(y_test, y_pred_6_layers)\n",
        "print(f'6 Layers Accuracy: {accuracy_6_layers:.4f}')"
      ],
      "metadata": {
        "colab": {
          "base_uri": "https://localhost:8080/"
        },
        "id": "tGNfKj96kFfs",
        "outputId": "5388c2e0-49f1-47bc-cf98-6b3ea1e9b84e"
      },
      "execution_count": 18,
      "outputs": [
        {
          "output_type": "stream",
          "name": "stdout",
          "text": [
            "6 Layers Accuracy: 0.5833\n"
          ]
        }
      ]
    },
    {
      "cell_type": "markdown",
      "source": [
        "###ANN Model with 8 hidden layers"
      ],
      "metadata": {
        "id": "iIRic_FjkL4j"
      }
    },
    {
      "cell_type": "code",
      "source": [
        "# ANN Model with 8 hidden layers\n",
        "pipeline_8_layers = Pipeline([\n",
        "    ('scaler', StandardScaler()),\n",
        "    ('selector', SelectKBest(f_classif, k=25)),\n",
        "    ('classifier', MLPClassifier(hidden_layer_sizes=(300, 250, 200, 150, 100, 75, 50, 25), max_iter=500, random_state=42))\n",
        "])\n",
        "pipeline_8_layers.fit(X_train, y_train)\n",
        "y_pred_8_layers = pipeline_8_layers.predict(X_test)\n",
        "accuracy_8_layers = accuracy_score(y_test, y_pred_8_layers)\n",
        "print(f'8 Layers Accuracy: {accuracy_8_layers:.4f}')"
      ],
      "metadata": {
        "colab": {
          "base_uri": "https://localhost:8080/"
        },
        "id": "WLzr0NBZkPLw",
        "outputId": "4585cdde-a1a2-4e20-eda7-0f2e60ce584d"
      },
      "execution_count": 19,
      "outputs": [
        {
          "output_type": "stream",
          "name": "stdout",
          "text": [
            "8 Layers Accuracy: 0.5556\n"
          ]
        }
      ]
    },
    {
      "cell_type": "markdown",
      "source": [
        "###ANN Model with skip connections (8 hidden layers)"
      ],
      "metadata": {
        "id": "MT86e_likTCf"
      }
    },
    {
      "cell_type": "code",
      "source": [
        "# ANN Model with skip connections (8 hidden layers)\n",
        "tf.config.run_functions_eagerly(True)\n",
        "label_encoder = LabelEncoder()\n",
        "y_train_encoded = label_encoder.fit_transform(y_train)\n",
        "y_test_encoded = label_encoder.transform(y_test)\n",
        "y_train_one_hot = to_categorical(y_train_encoded)\n",
        "y_test_one_hot = to_categorical(y_test_encoded)\n",
        "scaler = StandardScaler()\n",
        "X_train_scaled = scaler.fit_transform(X_train)\n",
        "X_test_scaled = scaler.transform(X_test)\n",
        "\n",
        "input_layer = tf.keras.Input(shape=(X_train.shape[1],))\n",
        "x = layers.Dense(300, activation='relu')(input_layer)\n",
        "skip1 = layers.Dense(250, activation='relu')(x)\n",
        "x = layers.concatenate([x, skip1])\n",
        "x = layers.Dense(200, activation='relu')(x)\n",
        "skip2 = layers.Dense(150, activation='relu')(x)\n",
        "x = layers.concatenate([x, skip2])\n",
        "x = layers.Dense(100, activation='relu')(x)\n",
        "skip3 = layers.Dense(75, activation='relu')(x)\n",
        "x = layers.concatenate([x, skip3])\n",
        "x = layers.Dense(50, activation='relu')(x)\n",
        "skip4 = layers.Dense(25, activation='relu')(x)\n",
        "x = layers.concatenate([x, skip4])\n",
        "output_layer = layers.Dense(len(label_encoder.classes_), activation='softmax')(x)\n",
        "model_skip_connections = models.Model(inputs=input_layer, outputs=output_layer)\n",
        "model_skip_connections.compile(optimizer='adam', loss='categorical_crossentropy', metrics=['accuracy'])\n",
        "model_skip_connections.fit(X_train_scaled, y_train_one_hot, epochs=10, batch_size=64, validation_split=0.2)\n",
        "y_pred_prob_skip_connections = model_skip_connections.predict(X_test_scaled)\n",
        "y_pred_skip_connections = tf.argmax(y_pred_prob_skip_connections, axis=1)\n",
        "y_pred_labels_skip_connections = label_encoder.inverse_transform(y_pred_skip_connections.numpy())\n",
        "accuracy_skip_connections = accuracy_score(y_test, y_pred_labels_skip_connections)\n",
        "print(f\"Skip Connections Accuracy: {accuracy_skip_connections * 100:.2f}%\")\n"
      ],
      "metadata": {
        "colab": {
          "base_uri": "https://localhost:8080/"
        },
        "id": "shNC2cVNkPpk",
        "outputId": "5e058d49-7103-4546-f74d-825bad88271a"
      },
      "execution_count": 20,
      "outputs": [
        {
          "output_type": "stream",
          "name": "stdout",
          "text": [
            "Epoch 1/10\n",
            "9/9 [==============================] - 1s 89ms/step - loss: 2.3269 - accuracy: 0.1873 - val_loss: 2.0821 - val_accuracy: 0.2615\n",
            "Epoch 2/10\n",
            "9/9 [==============================] - 1s 83ms/step - loss: 1.8316 - accuracy: 0.3707 - val_loss: 1.6733 - val_accuracy: 0.4154\n",
            "Epoch 3/10\n",
            "9/9 [==============================] - 1s 90ms/step - loss: 1.4488 - accuracy: 0.4633 - val_loss: 1.6391 - val_accuracy: 0.4077\n",
            "Epoch 4/10\n",
            "9/9 [==============================] - 1s 82ms/step - loss: 1.3291 - accuracy: 0.5000 - val_loss: 1.6436 - val_accuracy: 0.4462\n",
            "Epoch 5/10\n",
            "9/9 [==============================] - 1s 121ms/step - loss: 1.2261 - accuracy: 0.5425 - val_loss: 1.4385 - val_accuracy: 0.5000\n",
            "Epoch 6/10\n",
            "9/9 [==============================] - 1s 121ms/step - loss: 1.1006 - accuracy: 0.5869 - val_loss: 1.3669 - val_accuracy: 0.5462\n",
            "Epoch 7/10\n",
            "9/9 [==============================] - 1s 114ms/step - loss: 0.9385 - accuracy: 0.6718 - val_loss: 1.3543 - val_accuracy: 0.5231\n",
            "Epoch 8/10\n",
            "9/9 [==============================] - 1s 110ms/step - loss: 0.8230 - accuracy: 0.7181 - val_loss: 1.2743 - val_accuracy: 0.5538\n",
            "Epoch 9/10\n",
            "9/9 [==============================] - 1s 82ms/step - loss: 0.6955 - accuracy: 0.7490 - val_loss: 1.3759 - val_accuracy: 0.5923\n",
            "Epoch 10/10\n",
            "9/9 [==============================] - 1s 83ms/step - loss: 0.6623 - accuracy: 0.7664 - val_loss: 1.4430 - val_accuracy: 0.5385\n",
            "3/3 [==============================] - 0s 12ms/step\n",
            "Skip Connections Accuracy: 44.44%\n"
          ]
        }
      ]
    },
    {
      "cell_type": "markdown",
      "source": [
        "###ANN Model with Batch Normalization (8 hidden layers)"
      ],
      "metadata": {
        "id": "0sT0CLS7kese"
      }
    },
    {
      "cell_type": "code",
      "source": [
        "# ANN Model with Batch Normalization (8 hidden layers)\n",
        "label_encoder = LabelEncoder()\n",
        "y_train_encoded = label_encoder.fit_transform(y_train)\n",
        "y_test_encoded = label_encoder.transform(y_test)\n",
        "y_train_one_hot = to_categorical(y_train_encoded)\n",
        "y_test_one_hot = to_categorical(y_test_encoded)\n",
        "scaler = StandardScaler()\n",
        "X_train_scaled = scaler.fit_transform(X_train)\n",
        "X_test_scaled = scaler.transform(X_test)\n",
        "\n",
        "input_layer = tf.keras.Input(shape=(X_train.shape[1],))\n",
        "x = layers.Dense(300)(input_layer)\n",
        "x = layers.BatchNormalization()(x)\n",
        "x = layers.Activation('relu')(x)\n",
        "skip1 = layers.Dense(250)(x)\n",
        "skip1 = layers.BatchNormalization()(skip1)\n",
        "x = layers.concatenate([x, skip1])\n",
        "x = layers.Activation('relu')(x)\n",
        "x = layers.Dense(200)(x)\n",
        "x = layers.BatchNormalization()(x)\n",
        "x = layers.Activation('relu')(x)\n",
        "skip2 = layers.Dense(150)(x)\n",
        "skip2 = layers.BatchNormalization()(skip2)\n",
        "x = layers.concatenate([x, skip2])\n",
        "x = layers.Activation('relu')(x)\n",
        "x = layers.Dense(100)(x)\n",
        "x = layers.BatchNormalization()(x)\n",
        "x = layers.Activation('relu')(x)\n",
        "skip3 = layers.Dense(75)(x)\n",
        "skip3 = layers.BatchNormalization()(skip3)\n",
        "x = layers.concatenate([x, skip3])\n",
        "x = layers.Activation('relu')(x)\n",
        "x = layers.Dense(50)(x)\n",
        "x = layers.BatchNormalization()(x)\n",
        "x = layers.Activation('relu')(x)\n",
        "skip4 = layers.Dense(25)(x)\n",
        "skip4 = layers.BatchNormalization()(skip4)\n",
        "x = layers.concatenate([x, skip4])\n",
        "x = layers.Activation('relu')(x)\n",
        "output_layer = layers.Dense(len(label_encoder.classes_), activation='softmax')(x)\n",
        "model_bn = models.Model(inputs=input_layer, outputs=output_layer)\n",
        "model_bn.compile(optimizer='adam', loss='categorical_crossentropy', metrics=['accuracy'])\n",
        "model_bn.fit(X_train_scaled, y_train_one_hot, epochs=100, batch_size=64, validation_split=0.2)\n",
        "y_pred_prob_bn = model_bn.predict(X_test_scaled)\n",
        "y_pred_bn = tf.argmax(y_pred_prob_bn, axis=1)\n",
        "y_pred_labels_bn = label_encoder.inverse_transform(y_pred_bn.numpy())\n",
        "accuracy_bn = accuracy_score(y_test, y_pred_labels_bn)\n",
        "print(f\"Batch Normalization Accuracy: {accuracy_bn * 100:.2f}%\")\n"
      ],
      "metadata": {
        "colab": {
          "base_uri": "https://localhost:8080/"
        },
        "id": "M2XmhfLbkfEZ",
        "outputId": "3bff47fe-e2f8-453e-983b-b550aea0193d"
      },
      "execution_count": 21,
      "outputs": [
        {
          "output_type": "stream",
          "name": "stdout",
          "text": [
            "Epoch 1/100\n",
            "9/9 [==============================] - 2s 175ms/step - loss: 2.4288 - accuracy: 0.2104 - val_loss: 2.3495 - val_accuracy: 0.2077\n",
            "Epoch 2/100\n",
            "9/9 [==============================] - 1s 169ms/step - loss: 1.5772 - accuracy: 0.5405 - val_loss: 2.2772 - val_accuracy: 0.2615\n",
            "Epoch 3/100\n",
            "9/9 [==============================] - 2s 168ms/step - loss: 1.3063 - accuracy: 0.6776 - val_loss: 2.2287 - val_accuracy: 0.4308\n",
            "Epoch 4/100\n",
            "9/9 [==============================] - 2s 218ms/step - loss: 1.1451 - accuracy: 0.7239 - val_loss: 2.1649 - val_accuracy: 0.5000\n",
            "Epoch 5/100\n",
            "9/9 [==============================] - 2s 226ms/step - loss: 0.9862 - accuracy: 0.8050 - val_loss: 2.0724 - val_accuracy: 0.5000\n",
            "Epoch 6/100\n",
            "9/9 [==============================] - 2s 170ms/step - loss: 0.9025 - accuracy: 0.8108 - val_loss: 2.0088 - val_accuracy: 0.5385\n",
            "Epoch 7/100\n",
            "9/9 [==============================] - 1s 162ms/step - loss: 0.7795 - accuracy: 0.8649 - val_loss: 1.9425 - val_accuracy: 0.5154\n",
            "Epoch 8/100\n",
            "9/9 [==============================] - 2s 174ms/step - loss: 0.7281 - accuracy: 0.8745 - val_loss: 1.8691 - val_accuracy: 0.5615\n",
            "Epoch 9/100\n",
            "9/9 [==============================] - 1s 166ms/step - loss: 0.6529 - accuracy: 0.8900 - val_loss: 1.7867 - val_accuracy: 0.5385\n",
            "Epoch 10/100\n",
            "9/9 [==============================] - 1s 164ms/step - loss: 0.6068 - accuracy: 0.8784 - val_loss: 1.7077 - val_accuracy: 0.5846\n",
            "Epoch 11/100\n",
            "9/9 [==============================] - 1s 160ms/step - loss: 0.5781 - accuracy: 0.8861 - val_loss: 1.5573 - val_accuracy: 0.6308\n",
            "Epoch 12/100\n",
            "9/9 [==============================] - 2s 171ms/step - loss: 0.4956 - accuracy: 0.9054 - val_loss: 1.4674 - val_accuracy: 0.6462\n",
            "Epoch 13/100\n",
            "9/9 [==============================] - 3s 344ms/step - loss: 0.4432 - accuracy: 0.9228 - val_loss: 1.4503 - val_accuracy: 0.6154\n",
            "Epoch 14/100\n",
            "9/9 [==============================] - 4s 469ms/step - loss: 0.3746 - accuracy: 0.9556 - val_loss: 1.4064 - val_accuracy: 0.5923\n",
            "Epoch 15/100\n",
            "9/9 [==============================] - 4s 514ms/step - loss: 0.3877 - accuracy: 0.9479 - val_loss: 1.3229 - val_accuracy: 0.6308\n",
            "Epoch 16/100\n",
            "9/9 [==============================] - 1s 160ms/step - loss: 0.3623 - accuracy: 0.9479 - val_loss: 1.3244 - val_accuracy: 0.5923\n",
            "Epoch 17/100\n",
            "9/9 [==============================] - 2s 170ms/step - loss: 0.3077 - accuracy: 0.9595 - val_loss: 1.2766 - val_accuracy: 0.5692\n",
            "Epoch 18/100\n",
            "9/9 [==============================] - 2s 226ms/step - loss: 0.2857 - accuracy: 0.9556 - val_loss: 1.2578 - val_accuracy: 0.6154\n",
            "Epoch 19/100\n",
            "9/9 [==============================] - 2s 218ms/step - loss: 0.3181 - accuracy: 0.9498 - val_loss: 1.2785 - val_accuracy: 0.6462\n",
            "Epoch 20/100\n",
            "9/9 [==============================] - 1s 167ms/step - loss: 0.3303 - accuracy: 0.9479 - val_loss: 1.2541 - val_accuracy: 0.6385\n",
            "Epoch 21/100\n",
            "9/9 [==============================] - 1s 161ms/step - loss: 0.3366 - accuracy: 0.9402 - val_loss: 1.2636 - val_accuracy: 0.6462\n",
            "Epoch 22/100\n",
            "9/9 [==============================] - 1s 159ms/step - loss: 0.3218 - accuracy: 0.9324 - val_loss: 1.2714 - val_accuracy: 0.6231\n",
            "Epoch 23/100\n",
            "9/9 [==============================] - 2s 170ms/step - loss: 0.2941 - accuracy: 0.9614 - val_loss: 1.3396 - val_accuracy: 0.5692\n",
            "Epoch 24/100\n",
            "9/9 [==============================] - 2s 169ms/step - loss: 0.3343 - accuracy: 0.9344 - val_loss: 1.4501 - val_accuracy: 0.5538\n",
            "Epoch 25/100\n",
            "9/9 [==============================] - 1s 162ms/step - loss: 0.3045 - accuracy: 0.9402 - val_loss: 1.3582 - val_accuracy: 0.5615\n",
            "Epoch 26/100\n",
            "9/9 [==============================] - 2s 194ms/step - loss: 0.3190 - accuracy: 0.9363 - val_loss: 1.4360 - val_accuracy: 0.5615\n",
            "Epoch 27/100\n",
            "9/9 [==============================] - 2s 228ms/step - loss: 0.2775 - accuracy: 0.9556 - val_loss: 1.3497 - val_accuracy: 0.6231\n",
            "Epoch 28/100\n",
            "9/9 [==============================] - 2s 195ms/step - loss: 0.2734 - accuracy: 0.9517 - val_loss: 1.3783 - val_accuracy: 0.5846\n",
            "Epoch 29/100\n",
            "9/9 [==============================] - 1s 165ms/step - loss: 0.2351 - accuracy: 0.9730 - val_loss: 1.3986 - val_accuracy: 0.5923\n",
            "Epoch 30/100\n",
            "9/9 [==============================] - 1s 162ms/step - loss: 0.2271 - accuracy: 0.9653 - val_loss: 1.3245 - val_accuracy: 0.6077\n",
            "Epoch 31/100\n",
            "9/9 [==============================] - 1s 165ms/step - loss: 0.2064 - accuracy: 0.9691 - val_loss: 1.2293 - val_accuracy: 0.6231\n",
            "Epoch 32/100\n",
            "9/9 [==============================] - 2s 237ms/step - loss: 0.2161 - accuracy: 0.9653 - val_loss: 1.3541 - val_accuracy: 0.6154\n",
            "Epoch 33/100\n",
            "9/9 [==============================] - 2s 165ms/step - loss: 0.2209 - accuracy: 0.9459 - val_loss: 1.3952 - val_accuracy: 0.6154\n",
            "Epoch 34/100\n",
            "9/9 [==============================] - 2s 177ms/step - loss: 0.2527 - accuracy: 0.9324 - val_loss: 1.3927 - val_accuracy: 0.6000\n",
            "Epoch 35/100\n",
            "9/9 [==============================] - 5s 546ms/step - loss: 0.2345 - accuracy: 0.9517 - val_loss: 1.2699 - val_accuracy: 0.6077\n",
            "Epoch 36/100\n",
            "9/9 [==============================] - 3s 296ms/step - loss: 0.3166 - accuracy: 0.9228 - val_loss: 1.3130 - val_accuracy: 0.6000\n",
            "Epoch 37/100\n",
            "9/9 [==============================] - 1s 169ms/step - loss: 0.3022 - accuracy: 0.9247 - val_loss: 1.4525 - val_accuracy: 0.5692\n",
            "Epoch 38/100\n",
            "9/9 [==============================] - 1s 164ms/step - loss: 0.2424 - accuracy: 0.9498 - val_loss: 1.3538 - val_accuracy: 0.6000\n",
            "Epoch 39/100\n",
            "9/9 [==============================] - 1s 163ms/step - loss: 0.1858 - accuracy: 0.9691 - val_loss: 1.2337 - val_accuracy: 0.6615\n",
            "Epoch 40/100\n",
            "9/9 [==============================] - 2s 171ms/step - loss: 0.1748 - accuracy: 0.9710 - val_loss: 1.2375 - val_accuracy: 0.6308\n",
            "Epoch 41/100\n",
            "9/9 [==============================] - 2s 195ms/step - loss: 0.1399 - accuracy: 0.9768 - val_loss: 1.3181 - val_accuracy: 0.6154\n",
            "Epoch 42/100\n",
            "9/9 [==============================] - 2s 224ms/step - loss: 0.1831 - accuracy: 0.9653 - val_loss: 1.3577 - val_accuracy: 0.6000\n",
            "Epoch 43/100\n",
            "9/9 [==============================] - 2s 202ms/step - loss: 0.2348 - accuracy: 0.9479 - val_loss: 1.3547 - val_accuracy: 0.5923\n",
            "Epoch 44/100\n",
            "9/9 [==============================] - 1s 162ms/step - loss: 0.2083 - accuracy: 0.9595 - val_loss: 1.2853 - val_accuracy: 0.6385\n",
            "Epoch 45/100\n",
            "9/9 [==============================] - 2s 169ms/step - loss: 0.2807 - accuracy: 0.9286 - val_loss: 1.4325 - val_accuracy: 0.5923\n",
            "Epoch 46/100\n",
            "9/9 [==============================] - 1s 160ms/step - loss: 0.2466 - accuracy: 0.9402 - val_loss: 1.2731 - val_accuracy: 0.6462\n",
            "Epoch 47/100\n",
            "9/9 [==============================] - 1s 164ms/step - loss: 0.2229 - accuracy: 0.9324 - val_loss: 1.2961 - val_accuracy: 0.6154\n",
            "Epoch 48/100\n",
            "9/9 [==============================] - 2s 169ms/step - loss: 0.2127 - accuracy: 0.9479 - val_loss: 1.2894 - val_accuracy: 0.6000\n",
            "Epoch 49/100\n",
            "9/9 [==============================] - 2s 172ms/step - loss: 0.1949 - accuracy: 0.9633 - val_loss: 1.3024 - val_accuracy: 0.6538\n",
            "Epoch 50/100\n",
            "9/9 [==============================] - 2s 236ms/step - loss: 0.1746 - accuracy: 0.9633 - val_loss: 1.2013 - val_accuracy: 0.6846\n",
            "Epoch 51/100\n",
            "9/9 [==============================] - 2s 227ms/step - loss: 0.1700 - accuracy: 0.9614 - val_loss: 1.2048 - val_accuracy: 0.6615\n",
            "Epoch 52/100\n",
            "9/9 [==============================] - 2s 170ms/step - loss: 0.2182 - accuracy: 0.9440 - val_loss: 1.4033 - val_accuracy: 0.6231\n",
            "Epoch 53/100\n",
            "9/9 [==============================] - 1s 168ms/step - loss: 0.1725 - accuracy: 0.9595 - val_loss: 1.4420 - val_accuracy: 0.6000\n",
            "Epoch 54/100\n",
            "9/9 [==============================] - 1s 161ms/step - loss: 0.1790 - accuracy: 0.9595 - val_loss: 1.3419 - val_accuracy: 0.6231\n",
            "Epoch 55/100\n",
            "9/9 [==============================] - 1s 161ms/step - loss: 0.1483 - accuracy: 0.9768 - val_loss: 1.3208 - val_accuracy: 0.6000\n",
            "Epoch 56/100\n",
            "9/9 [==============================] - 2s 170ms/step - loss: 0.1853 - accuracy: 0.9556 - val_loss: 1.3177 - val_accuracy: 0.6154\n",
            "Epoch 57/100\n",
            "9/9 [==============================] - 2s 167ms/step - loss: 0.1317 - accuracy: 0.9826 - val_loss: 1.4246 - val_accuracy: 0.6154\n",
            "Epoch 58/100\n",
            "9/9 [==============================] - 2s 180ms/step - loss: 0.1955 - accuracy: 0.9614 - val_loss: 1.5516 - val_accuracy: 0.5923\n",
            "Epoch 59/100\n",
            "9/9 [==============================] - 2s 241ms/step - loss: 0.1641 - accuracy: 0.9633 - val_loss: 1.4729 - val_accuracy: 0.6154\n",
            "Epoch 60/100\n",
            "9/9 [==============================] - 2s 211ms/step - loss: 0.1745 - accuracy: 0.9614 - val_loss: 1.2639 - val_accuracy: 0.6538\n",
            "Epoch 61/100\n",
            "9/9 [==============================] - 2s 172ms/step - loss: 0.1487 - accuracy: 0.9672 - val_loss: 1.2296 - val_accuracy: 0.6692\n",
            "Epoch 62/100\n",
            "9/9 [==============================] - 2s 170ms/step - loss: 0.1933 - accuracy: 0.9498 - val_loss: 1.2448 - val_accuracy: 0.6846\n",
            "Epoch 63/100\n",
            "9/9 [==============================] - 2s 173ms/step - loss: 0.1588 - accuracy: 0.9614 - val_loss: 1.1578 - val_accuracy: 0.6846\n",
            "Epoch 64/100\n",
            "9/9 [==============================] - 1s 166ms/step - loss: 0.1439 - accuracy: 0.9653 - val_loss: 1.3175 - val_accuracy: 0.6385\n",
            "Epoch 65/100\n",
            "9/9 [==============================] - 1s 164ms/step - loss: 0.1995 - accuracy: 0.9498 - val_loss: 1.3724 - val_accuracy: 0.6538\n",
            "Epoch 66/100\n",
            "9/9 [==============================] - 1s 166ms/step - loss: 0.1848 - accuracy: 0.9575 - val_loss: 1.4303 - val_accuracy: 0.6154\n",
            "Epoch 67/100\n",
            "9/9 [==============================] - 2s 216ms/step - loss: 0.2675 - accuracy: 0.9228 - val_loss: 1.7853 - val_accuracy: 0.5462\n",
            "Epoch 68/100\n",
            "9/9 [==============================] - 2s 229ms/step - loss: 0.2575 - accuracy: 0.9363 - val_loss: 1.6170 - val_accuracy: 0.5615\n",
            "Epoch 69/100\n",
            "9/9 [==============================] - 2s 181ms/step - loss: 0.2908 - accuracy: 0.9170 - val_loss: 1.4033 - val_accuracy: 0.5846\n",
            "Epoch 70/100\n",
            "9/9 [==============================] - 1s 167ms/step - loss: 0.1796 - accuracy: 0.9595 - val_loss: 1.2510 - val_accuracy: 0.6231\n",
            "Epoch 71/100\n",
            "9/9 [==============================] - 2s 172ms/step - loss: 0.1827 - accuracy: 0.9517 - val_loss: 1.3569 - val_accuracy: 0.6462\n",
            "Epoch 72/100\n",
            "9/9 [==============================] - 2s 169ms/step - loss: 0.1525 - accuracy: 0.9614 - val_loss: 1.5055 - val_accuracy: 0.6000\n",
            "Epoch 73/100\n",
            "9/9 [==============================] - 1s 165ms/step - loss: 0.1831 - accuracy: 0.9575 - val_loss: 1.6044 - val_accuracy: 0.5769\n",
            "Epoch 74/100\n",
            "9/9 [==============================] - 2s 175ms/step - loss: 0.2380 - accuracy: 0.9247 - val_loss: 1.5764 - val_accuracy: 0.5692\n",
            "Epoch 75/100\n",
            "9/9 [==============================] - 2s 206ms/step - loss: 0.2021 - accuracy: 0.9498 - val_loss: 1.4815 - val_accuracy: 0.5769\n",
            "Epoch 76/100\n",
            "9/9 [==============================] - 2s 232ms/step - loss: 0.1769 - accuracy: 0.9575 - val_loss: 1.3725 - val_accuracy: 0.6231\n",
            "Epoch 77/100\n",
            "9/9 [==============================] - 2s 206ms/step - loss: 0.1731 - accuracy: 0.9517 - val_loss: 1.6708 - val_accuracy: 0.5692\n",
            "Epoch 78/100\n",
            "9/9 [==============================] - 1s 163ms/step - loss: 0.2462 - accuracy: 0.9402 - val_loss: 1.9050 - val_accuracy: 0.5462\n",
            "Epoch 79/100\n",
            "9/9 [==============================] - 1s 164ms/step - loss: 0.1910 - accuracy: 0.9595 - val_loss: 1.7529 - val_accuracy: 0.5462\n",
            "Epoch 80/100\n",
            "9/9 [==============================] - 1s 164ms/step - loss: 0.1448 - accuracy: 0.9710 - val_loss: 1.6620 - val_accuracy: 0.5769\n",
            "Epoch 81/100\n",
            "9/9 [==============================] - 2s 172ms/step - loss: 0.1227 - accuracy: 0.9749 - val_loss: 1.6801 - val_accuracy: 0.5385\n",
            "Epoch 82/100\n",
            "9/9 [==============================] - 1s 164ms/step - loss: 0.1841 - accuracy: 0.9440 - val_loss: 1.4853 - val_accuracy: 0.5769\n",
            "Epoch 83/100\n",
            "9/9 [==============================] - 1s 165ms/step - loss: 0.1070 - accuracy: 0.9865 - val_loss: 1.4488 - val_accuracy: 0.6231\n",
            "Epoch 84/100\n",
            "9/9 [==============================] - 2s 231ms/step - loss: 0.1196 - accuracy: 0.9749 - val_loss: 1.4400 - val_accuracy: 0.6769\n",
            "Epoch 85/100\n",
            "9/9 [==============================] - 2s 253ms/step - loss: 0.1202 - accuracy: 0.9788 - val_loss: 1.4703 - val_accuracy: 0.6231\n",
            "Epoch 86/100\n",
            "9/9 [==============================] - 2s 173ms/step - loss: 0.1283 - accuracy: 0.9710 - val_loss: 1.5190 - val_accuracy: 0.6000\n",
            "Epoch 87/100\n",
            "9/9 [==============================] - 1s 168ms/step - loss: 0.1682 - accuracy: 0.9498 - val_loss: 1.8835 - val_accuracy: 0.5154\n",
            "Epoch 88/100\n",
            "9/9 [==============================] - 2s 169ms/step - loss: 0.1415 - accuracy: 0.9672 - val_loss: 1.7563 - val_accuracy: 0.6000\n",
            "Epoch 89/100\n",
            "9/9 [==============================] - 1s 164ms/step - loss: 0.1046 - accuracy: 0.9807 - val_loss: 1.7054 - val_accuracy: 0.5923\n",
            "Epoch 90/100\n",
            "9/9 [==============================] - 2s 171ms/step - loss: 0.1355 - accuracy: 0.9595 - val_loss: 1.5522 - val_accuracy: 0.5846\n",
            "Epoch 91/100\n",
            "9/9 [==============================] - 1s 164ms/step - loss: 0.1302 - accuracy: 0.9653 - val_loss: 1.4350 - val_accuracy: 0.6077\n",
            "Epoch 92/100\n",
            "9/9 [==============================] - 2s 193ms/step - loss: 0.0991 - accuracy: 0.9788 - val_loss: 1.4453 - val_accuracy: 0.6538\n",
            "Epoch 93/100\n",
            "9/9 [==============================] - 2s 231ms/step - loss: 0.1550 - accuracy: 0.9517 - val_loss: 1.4774 - val_accuracy: 0.6154\n",
            "Epoch 94/100\n",
            "9/9 [==============================] - 2s 209ms/step - loss: 0.1236 - accuracy: 0.9710 - val_loss: 1.3311 - val_accuracy: 0.6538\n",
            "Epoch 95/100\n",
            "9/9 [==============================] - 1s 163ms/step - loss: 0.1317 - accuracy: 0.9633 - val_loss: 1.2909 - val_accuracy: 0.6462\n",
            "Epoch 96/100\n",
            "9/9 [==============================] - 2s 172ms/step - loss: 0.1291 - accuracy: 0.9710 - val_loss: 1.3739 - val_accuracy: 0.6154\n",
            "Epoch 97/100\n",
            "9/9 [==============================] - 1s 168ms/step - loss: 0.1276 - accuracy: 0.9730 - val_loss: 1.5003 - val_accuracy: 0.5846\n",
            "Epoch 98/100\n",
            "9/9 [==============================] - 1s 162ms/step - loss: 0.1298 - accuracy: 0.9730 - val_loss: 1.3813 - val_accuracy: 0.6000\n",
            "Epoch 99/100\n",
            "9/9 [==============================] - 1s 164ms/step - loss: 0.1050 - accuracy: 0.9826 - val_loss: 1.3865 - val_accuracy: 0.6231\n",
            "Epoch 100/100\n",
            "9/9 [==============================] - 2s 170ms/step - loss: 0.1226 - accuracy: 0.9633 - val_loss: 1.5907 - val_accuracy: 0.5769\n",
            "3/3 [==============================] - 0s 22ms/step\n",
            "Batch Normalization Accuracy: 58.33%\n"
          ]
        }
      ]
    },
    {
      "cell_type": "markdown",
      "source": [
        "###ANN Model with 12 hidden layers"
      ],
      "metadata": {
        "id": "wN8fPNzak0gm"
      }
    },
    {
      "cell_type": "code",
      "source": [
        "# ANN Model with 12 hidden layers\n",
        "label_encoder = LabelEncoder()\n",
        "y_train_encoded = label_encoder.fit_transform(y_train)\n",
        "y_test_encoded = label_encoder.transform(y_test)\n",
        "y_train_one_hot = to_categorical(y_train_encoded)\n",
        "y_test_one_hot = to_categorical(y_test_encoded)\n",
        "scaler = StandardScaler()\n",
        "X_train_scaled = scaler.fit_transform(X_train)\n",
        "X_test_scaled = scaler.transform(X_test)\n",
        "\n",
        "input_layer = tf.keras.Input(shape=(X_train.shape[1],))\n",
        "x = input_layer\n",
        "\n",
        "for i in range(1, 8):\n",
        "    x = layers.Dense(300, activation='relu')(x)\n",
        "    if i % 2 == 0:\n",
        "        x = layers.BatchNormalization()(x)\n",
        "    if i % 3 == 0:\n",
        "        skip_layer = x\n",
        "\n",
        "output_layer = layers.Dense(len(label_encoder.classes_), activation='softmax')(x)\n",
        "model_12_layers = models.Model(inputs=input_layer, outputs=output_layer)\n",
        "model_12_layers.compile(optimizer='adam', loss='categorical_crossentropy', metrics=['accuracy'])\n",
        "model_12_layers.fit(X_train_scaled, y_train_one_hot, epochs=100, batch_size=64, validation_split=0.2)\n",
        "y_pred_prob_12_layers = model_12_layers.predict(X_test_scaled)\n",
        "y_pred_12_layers = tf.argmax(y_pred_prob_12_layers, axis=1)\n",
        "y_pred_labels_12_layers = label_encoder.inverse_transform(y_pred_12_layers.numpy())\n",
        "accuracy_12_layers = accuracy_score(y_test, y_pred_labels_12_layers)\n",
        "print(f\"12 Layers Accuracy: {accuracy_12_layers * 100:.2f}%\")"
      ],
      "metadata": {
        "colab": {
          "base_uri": "https://localhost:8080/"
        },
        "id": "ltimJhHdktsp",
        "outputId": "52f1c873-defc-43af-dcdc-068e5e7cae4f"
      },
      "execution_count": 22,
      "outputs": [
        {
          "output_type": "stream",
          "name": "stdout",
          "text": [
            "Epoch 1/100\n",
            "9/9 [==============================] - 1s 144ms/step - loss: 2.2301 - accuracy: 0.2703 - val_loss: 2.4310 - val_accuracy: 0.2231\n",
            "Epoch 2/100\n",
            "9/9 [==============================] - 1s 122ms/step - loss: 1.0534 - accuracy: 0.6757 - val_loss: 2.3726 - val_accuracy: 0.2769\n",
            "Epoch 3/100\n",
            "9/9 [==============================] - 1s 113ms/step - loss: 0.6556 - accuracy: 0.8166 - val_loss: 2.3340 - val_accuracy: 0.2846\n",
            "Epoch 4/100\n",
            "9/9 [==============================] - 1s 125ms/step - loss: 0.4420 - accuracy: 0.8919 - val_loss: 2.2949 - val_accuracy: 0.2923\n",
            "Epoch 5/100\n",
            "9/9 [==============================] - 1s 121ms/step - loss: 0.3822 - accuracy: 0.8996 - val_loss: 2.2703 - val_accuracy: 0.2846\n",
            "Epoch 6/100\n",
            "9/9 [==============================] - 1s 113ms/step - loss: 0.3098 - accuracy: 0.9151 - val_loss: 2.2799 - val_accuracy: 0.1923\n",
            "Epoch 7/100\n",
            "9/9 [==============================] - 1s 115ms/step - loss: 0.3263 - accuracy: 0.9228 - val_loss: 2.2545 - val_accuracy: 0.2077\n",
            "Epoch 8/100\n",
            "9/9 [==============================] - 1s 113ms/step - loss: 0.3907 - accuracy: 0.8977 - val_loss: 2.2428 - val_accuracy: 0.2385\n",
            "Epoch 9/100\n",
            "9/9 [==============================] - 1s 114ms/step - loss: 0.3346 - accuracy: 0.9093 - val_loss: 2.2036 - val_accuracy: 0.2769\n",
            "Epoch 10/100\n",
            "9/9 [==============================] - 1s 112ms/step - loss: 0.2772 - accuracy: 0.9228 - val_loss: 2.1582 - val_accuracy: 0.2462\n",
            "Epoch 11/100\n",
            "9/9 [==============================] - 1s 156ms/step - loss: 0.2163 - accuracy: 0.9421 - val_loss: 2.0802 - val_accuracy: 0.3154\n",
            "Epoch 12/100\n",
            "9/9 [==============================] - 2s 169ms/step - loss: 0.3231 - accuracy: 0.8977 - val_loss: 2.0568 - val_accuracy: 0.2923\n",
            "Epoch 13/100\n",
            "9/9 [==============================] - 1s 148ms/step - loss: 0.3006 - accuracy: 0.9170 - val_loss: 2.1422 - val_accuracy: 0.3000\n",
            "Epoch 14/100\n",
            "9/9 [==============================] - 1s 115ms/step - loss: 0.1948 - accuracy: 0.9479 - val_loss: 2.0680 - val_accuracy: 0.3231\n",
            "Epoch 15/100\n",
            "9/9 [==============================] - 1s 112ms/step - loss: 0.2056 - accuracy: 0.9382 - val_loss: 1.9545 - val_accuracy: 0.3923\n",
            "Epoch 16/100\n",
            "9/9 [==============================] - 1s 114ms/step - loss: 0.2541 - accuracy: 0.9189 - val_loss: 1.9063 - val_accuracy: 0.4154\n",
            "Epoch 17/100\n",
            "9/9 [==============================] - 2s 278ms/step - loss: 0.2631 - accuracy: 0.9305 - val_loss: 1.6254 - val_accuracy: 0.4538\n",
            "Epoch 18/100\n",
            "9/9 [==============================] - 1s 162ms/step - loss: 0.4017 - accuracy: 0.8629 - val_loss: 1.5850 - val_accuracy: 0.5154\n",
            "Epoch 19/100\n",
            "9/9 [==============================] - 1s 110ms/step - loss: 0.2702 - accuracy: 0.8996 - val_loss: 1.6288 - val_accuracy: 0.4615\n",
            "Epoch 20/100\n",
            "9/9 [==============================] - 1s 110ms/step - loss: 0.2509 - accuracy: 0.9305 - val_loss: 1.6485 - val_accuracy: 0.4308\n",
            "Epoch 21/100\n",
            "9/9 [==============================] - 1s 116ms/step - loss: 0.1728 - accuracy: 0.9459 - val_loss: 1.6869 - val_accuracy: 0.4462\n",
            "Epoch 22/100\n",
            "9/9 [==============================] - 1s 164ms/step - loss: 0.2411 - accuracy: 0.9266 - val_loss: 1.5405 - val_accuracy: 0.4846\n",
            "Epoch 23/100\n",
            "9/9 [==============================] - 1s 160ms/step - loss: 0.1839 - accuracy: 0.9459 - val_loss: 1.4595 - val_accuracy: 0.5308\n",
            "Epoch 24/100\n",
            "9/9 [==============================] - 1s 135ms/step - loss: 0.1445 - accuracy: 0.9595 - val_loss: 1.6154 - val_accuracy: 0.4846\n",
            "Epoch 25/100\n",
            "9/9 [==============================] - 1s 110ms/step - loss: 0.1726 - accuracy: 0.9556 - val_loss: 1.6969 - val_accuracy: 0.4385\n",
            "Epoch 26/100\n",
            "9/9 [==============================] - 1s 111ms/step - loss: 0.1061 - accuracy: 0.9749 - val_loss: 1.6225 - val_accuracy: 0.5231\n",
            "Epoch 27/100\n",
            "9/9 [==============================] - 1s 111ms/step - loss: 0.2004 - accuracy: 0.9440 - val_loss: 1.6323 - val_accuracy: 0.5000\n",
            "Epoch 28/100\n",
            "9/9 [==============================] - 1s 112ms/step - loss: 0.2570 - accuracy: 0.9112 - val_loss: 1.7761 - val_accuracy: 0.4538\n",
            "Epoch 29/100\n",
            "9/9 [==============================] - 1s 121ms/step - loss: 0.1806 - accuracy: 0.9344 - val_loss: 1.7663 - val_accuracy: 0.5538\n",
            "Epoch 30/100\n",
            "9/9 [==============================] - 1s 112ms/step - loss: 0.2710 - accuracy: 0.9170 - val_loss: 1.6261 - val_accuracy: 0.5231\n",
            "Epoch 31/100\n",
            "9/9 [==============================] - 1s 114ms/step - loss: 0.1958 - accuracy: 0.9517 - val_loss: 1.4620 - val_accuracy: 0.5385\n",
            "Epoch 32/100\n",
            "9/9 [==============================] - 1s 123ms/step - loss: 0.2546 - accuracy: 0.9324 - val_loss: 1.6265 - val_accuracy: 0.5154\n",
            "Epoch 33/100\n",
            "9/9 [==============================] - 1s 111ms/step - loss: 0.3112 - accuracy: 0.8900 - val_loss: 1.8868 - val_accuracy: 0.4846\n",
            "Epoch 34/100\n",
            "9/9 [==============================] - 1s 145ms/step - loss: 0.3714 - accuracy: 0.8745 - val_loss: 1.9097 - val_accuracy: 0.5846\n",
            "Epoch 35/100\n",
            "9/9 [==============================] - 1s 159ms/step - loss: 0.2712 - accuracy: 0.9112 - val_loss: 1.8612 - val_accuracy: 0.5462\n",
            "Epoch 36/100\n",
            "9/9 [==============================] - 1s 161ms/step - loss: 0.3032 - accuracy: 0.9035 - val_loss: 1.7182 - val_accuracy: 0.5538\n",
            "Epoch 37/100\n",
            "9/9 [==============================] - 1s 122ms/step - loss: 0.2581 - accuracy: 0.9170 - val_loss: 2.0496 - val_accuracy: 0.5231\n",
            "Epoch 38/100\n",
            "9/9 [==============================] - 1s 113ms/step - loss: 0.2159 - accuracy: 0.9228 - val_loss: 1.7412 - val_accuracy: 0.6000\n",
            "Epoch 39/100\n",
            "9/9 [==============================] - 1s 116ms/step - loss: 0.3242 - accuracy: 0.9112 - val_loss: 1.7514 - val_accuracy: 0.5923\n",
            "Epoch 40/100\n",
            "9/9 [==============================] - 1s 113ms/step - loss: 0.1994 - accuracy: 0.9382 - val_loss: 1.6171 - val_accuracy: 0.5923\n",
            "Epoch 41/100\n",
            "9/9 [==============================] - 1s 122ms/step - loss: 0.1882 - accuracy: 0.9324 - val_loss: 1.7516 - val_accuracy: 0.5923\n",
            "Epoch 42/100\n",
            "9/9 [==============================] - 1s 125ms/step - loss: 0.2042 - accuracy: 0.9324 - val_loss: 2.0700 - val_accuracy: 0.5769\n",
            "Epoch 43/100\n",
            "9/9 [==============================] - 1s 123ms/step - loss: 0.1795 - accuracy: 0.9517 - val_loss: 2.2328 - val_accuracy: 0.5385\n",
            "Epoch 44/100\n",
            "9/9 [==============================] - 1s 125ms/step - loss: 0.2148 - accuracy: 0.9247 - val_loss: 1.9156 - val_accuracy: 0.5769\n",
            "Epoch 45/100\n",
            "9/9 [==============================] - 1s 113ms/step - loss: 0.1130 - accuracy: 0.9614 - val_loss: 2.3426 - val_accuracy: 0.5615\n",
            "Epoch 46/100\n",
            "9/9 [==============================] - 1s 142ms/step - loss: 0.1219 - accuracy: 0.9614 - val_loss: 2.2413 - val_accuracy: 0.5615\n",
            "Epoch 47/100\n",
            "9/9 [==============================] - 1s 165ms/step - loss: 0.1928 - accuracy: 0.9459 - val_loss: 2.6086 - val_accuracy: 0.4846\n",
            "Epoch 48/100\n",
            "9/9 [==============================] - 1s 160ms/step - loss: 0.2267 - accuracy: 0.9305 - val_loss: 2.2091 - val_accuracy: 0.5462\n",
            "Epoch 49/100\n",
            "9/9 [==============================] - 1s 132ms/step - loss: 0.1987 - accuracy: 0.9479 - val_loss: 2.1066 - val_accuracy: 0.5462\n",
            "Epoch 50/100\n",
            "9/9 [==============================] - 1s 114ms/step - loss: 0.1438 - accuracy: 0.9575 - val_loss: 2.1899 - val_accuracy: 0.5846\n",
            "Epoch 51/100\n",
            "9/9 [==============================] - 1s 111ms/step - loss: 0.1828 - accuracy: 0.9363 - val_loss: 2.4357 - val_accuracy: 0.5615\n",
            "Epoch 52/100\n",
            "9/9 [==============================] - 1s 115ms/step - loss: 0.1224 - accuracy: 0.9537 - val_loss: 2.4906 - val_accuracy: 0.5077\n",
            "Epoch 53/100\n",
            "9/9 [==============================] - 1s 112ms/step - loss: 0.1462 - accuracy: 0.9537 - val_loss: 2.2108 - val_accuracy: 0.5462\n",
            "Epoch 54/100\n",
            "9/9 [==============================] - 1s 122ms/step - loss: 0.1834 - accuracy: 0.9537 - val_loss: 2.1050 - val_accuracy: 0.5846\n",
            "Epoch 55/100\n",
            "9/9 [==============================] - 1s 124ms/step - loss: 0.1852 - accuracy: 0.9382 - val_loss: 2.6160 - val_accuracy: 0.5462\n",
            "Epoch 56/100\n",
            "9/9 [==============================] - 1s 115ms/step - loss: 0.3011 - accuracy: 0.9151 - val_loss: 2.2812 - val_accuracy: 0.5692\n",
            "Epoch 57/100\n",
            "9/9 [==============================] - 1s 115ms/step - loss: 0.2687 - accuracy: 0.9189 - val_loss: 2.8440 - val_accuracy: 0.5385\n",
            "Epoch 58/100\n",
            "9/9 [==============================] - 1s 130ms/step - loss: 0.3412 - accuracy: 0.9247 - val_loss: 2.1627 - val_accuracy: 0.5923\n",
            "Epoch 59/100\n",
            "9/9 [==============================] - 1s 169ms/step - loss: 0.1981 - accuracy: 0.9459 - val_loss: 1.8803 - val_accuracy: 0.6538\n",
            "Epoch 60/100\n",
            "9/9 [==============================] - 1s 159ms/step - loss: 0.1571 - accuracy: 0.9498 - val_loss: 1.5921 - val_accuracy: 0.6385\n",
            "Epoch 61/100\n",
            "9/9 [==============================] - 1s 129ms/step - loss: 0.1226 - accuracy: 0.9730 - val_loss: 1.7345 - val_accuracy: 0.5923\n",
            "Epoch 62/100\n",
            "9/9 [==============================] - 1s 115ms/step - loss: 0.2206 - accuracy: 0.9266 - val_loss: 2.0472 - val_accuracy: 0.6077\n",
            "Epoch 63/100\n",
            "9/9 [==============================] - 1s 113ms/step - loss: 0.1989 - accuracy: 0.9421 - val_loss: 2.1080 - val_accuracy: 0.5538\n",
            "Epoch 64/100\n",
            "9/9 [==============================] - 1s 115ms/step - loss: 0.2693 - accuracy: 0.9286 - val_loss: 2.2468 - val_accuracy: 0.5769\n",
            "Epoch 65/100\n",
            "9/9 [==============================] - 1s 112ms/step - loss: 0.1769 - accuracy: 0.9421 - val_loss: 2.5244 - val_accuracy: 0.5231\n",
            "Epoch 66/100\n",
            "9/9 [==============================] - 1s 112ms/step - loss: 0.2416 - accuracy: 0.9344 - val_loss: 2.2995 - val_accuracy: 0.5769\n",
            "Epoch 67/100\n",
            "9/9 [==============================] - 1s 114ms/step - loss: 0.1327 - accuracy: 0.9595 - val_loss: 2.2326 - val_accuracy: 0.5462\n",
            "Epoch 68/100\n",
            "9/9 [==============================] - 1s 112ms/step - loss: 0.1145 - accuracy: 0.9691 - val_loss: 2.0952 - val_accuracy: 0.5692\n",
            "Epoch 69/100\n",
            "9/9 [==============================] - 1s 122ms/step - loss: 0.1040 - accuracy: 0.9653 - val_loss: 2.4206 - val_accuracy: 0.5462\n",
            "Epoch 70/100\n",
            "9/9 [==============================] - 1s 114ms/step - loss: 0.2634 - accuracy: 0.9228 - val_loss: 2.7234 - val_accuracy: 0.5308\n",
            "Epoch 71/100\n",
            "9/9 [==============================] - 1s 154ms/step - loss: 0.2311 - accuracy: 0.9363 - val_loss: 2.3343 - val_accuracy: 0.5769\n",
            "Epoch 72/100\n",
            "9/9 [==============================] - 1s 156ms/step - loss: 0.0926 - accuracy: 0.9730 - val_loss: 2.1781 - val_accuracy: 0.5769\n",
            "Epoch 73/100\n",
            "9/9 [==============================] - 1s 159ms/step - loss: 0.1363 - accuracy: 0.9653 - val_loss: 2.2875 - val_accuracy: 0.5538\n",
            "Epoch 74/100\n",
            "9/9 [==============================] - 1s 112ms/step - loss: 0.1131 - accuracy: 0.9653 - val_loss: 2.1401 - val_accuracy: 0.5692\n",
            "Epoch 75/100\n",
            "9/9 [==============================] - 1s 111ms/step - loss: 0.2288 - accuracy: 0.9344 - val_loss: 1.9665 - val_accuracy: 0.5769\n",
            "Epoch 76/100\n",
            "9/9 [==============================] - 1s 125ms/step - loss: 0.1955 - accuracy: 0.9479 - val_loss: 2.0130 - val_accuracy: 0.6000\n",
            "Epoch 77/100\n",
            "9/9 [==============================] - 1s 113ms/step - loss: 0.2161 - accuracy: 0.9402 - val_loss: 2.5838 - val_accuracy: 0.5462\n",
            "Epoch 78/100\n",
            "9/9 [==============================] - 1s 118ms/step - loss: 0.3233 - accuracy: 0.9151 - val_loss: 2.7202 - val_accuracy: 0.5538\n",
            "Epoch 79/100\n",
            "9/9 [==============================] - 1s 112ms/step - loss: 0.2528 - accuracy: 0.9093 - val_loss: 2.5801 - val_accuracy: 0.5615\n",
            "Epoch 80/100\n",
            "9/9 [==============================] - 1s 121ms/step - loss: 0.2203 - accuracy: 0.9363 - val_loss: 2.3306 - val_accuracy: 0.5846\n",
            "Epoch 81/100\n",
            "9/9 [==============================] - 1s 111ms/step - loss: 0.1360 - accuracy: 0.9595 - val_loss: 2.3390 - val_accuracy: 0.5846\n",
            "Epoch 82/100\n",
            "9/9 [==============================] - 1s 112ms/step - loss: 0.1158 - accuracy: 0.9595 - val_loss: 2.3568 - val_accuracy: 0.6000\n",
            "Epoch 83/100\n",
            "9/9 [==============================] - 1s 132ms/step - loss: 0.1408 - accuracy: 0.9382 - val_loss: 2.2172 - val_accuracy: 0.5923\n",
            "Epoch 84/100\n",
            "9/9 [==============================] - 1s 159ms/step - loss: 0.1914 - accuracy: 0.9459 - val_loss: 2.1894 - val_accuracy: 0.5692\n",
            "Epoch 85/100\n",
            "9/9 [==============================] - 1s 161ms/step - loss: 0.2003 - accuracy: 0.9402 - val_loss: 2.0359 - val_accuracy: 0.5769\n",
            "Epoch 86/100\n",
            "9/9 [==============================] - 1s 136ms/step - loss: 0.2017 - accuracy: 0.9382 - val_loss: 1.9783 - val_accuracy: 0.5769\n",
            "Epoch 87/100\n",
            "9/9 [==============================] - 1s 112ms/step - loss: 0.2474 - accuracy: 0.9382 - val_loss: 1.9949 - val_accuracy: 0.5385\n",
            "Epoch 88/100\n",
            "9/9 [==============================] - 1s 112ms/step - loss: 0.1958 - accuracy: 0.9421 - val_loss: 1.8661 - val_accuracy: 0.5538\n",
            "Epoch 89/100\n",
            "9/9 [==============================] - 1s 112ms/step - loss: 0.1959 - accuracy: 0.9421 - val_loss: 1.7642 - val_accuracy: 0.6308\n",
            "Epoch 90/100\n",
            "9/9 [==============================] - 1s 122ms/step - loss: 0.1903 - accuracy: 0.9344 - val_loss: 1.7525 - val_accuracy: 0.6308\n",
            "Epoch 91/100\n",
            "9/9 [==============================] - 1s 111ms/step - loss: 0.2324 - accuracy: 0.9228 - val_loss: 2.0298 - val_accuracy: 0.6154\n",
            "Epoch 92/100\n",
            "9/9 [==============================] - 1s 122ms/step - loss: 0.1586 - accuracy: 0.9479 - val_loss: 2.2536 - val_accuracy: 0.6231\n",
            "Epoch 93/100\n",
            "9/9 [==============================] - 1s 113ms/step - loss: 0.2167 - accuracy: 0.9363 - val_loss: 2.5117 - val_accuracy: 0.5923\n",
            "Epoch 94/100\n",
            "9/9 [==============================] - 1s 114ms/step - loss: 0.1215 - accuracy: 0.9691 - val_loss: 2.1721 - val_accuracy: 0.6308\n",
            "Epoch 95/100\n",
            "9/9 [==============================] - 1s 115ms/step - loss: 0.1764 - accuracy: 0.9421 - val_loss: 2.1881 - val_accuracy: 0.6615\n",
            "Epoch 96/100\n",
            "9/9 [==============================] - 1s 162ms/step - loss: 0.2489 - accuracy: 0.9247 - val_loss: 2.1717 - val_accuracy: 0.6538\n",
            "Epoch 97/100\n",
            "9/9 [==============================] - 1s 163ms/step - loss: 0.1818 - accuracy: 0.9382 - val_loss: 2.0950 - val_accuracy: 0.5538\n",
            "Epoch 98/100\n",
            "9/9 [==============================] - 1s 159ms/step - loss: 0.1848 - accuracy: 0.9324 - val_loss: 1.9318 - val_accuracy: 0.5923\n",
            "Epoch 99/100\n",
            "9/9 [==============================] - 1s 124ms/step - loss: 0.2067 - accuracy: 0.9363 - val_loss: 2.2924 - val_accuracy: 0.6000\n",
            "Epoch 100/100\n",
            "9/9 [==============================] - 1s 120ms/step - loss: 0.1883 - accuracy: 0.9305 - val_loss: 1.9586 - val_accuracy: 0.6462\n",
            "3/3 [==============================] - 0s 14ms/step\n",
            "12 Layers Accuracy: 52.78%\n"
          ]
        }
      ]
    },
    {
      "cell_type": "markdown",
      "source": [
        "#RESULTS\n",
        "\n",
        "\n",
        "\n",
        "*   Logistic Regression - 61.11%\n",
        "*   KNN - 51.39%\n",
        "*   Decision Tree - 31.94%\n",
        "*   Random Forest - 62.50%\n",
        "*   SVM - 69.44%\n",
        "*   XGBoost - 59.72%\n",
        "*   ANN models\n",
        "\n",
        "    - 2 hidden layers - 68.06%\n",
        "    - 4 hidden layers - 66.67%\n",
        "    - 6 hidden layers - 58.33%\n",
        "    - 8 hidden layers - 55.56%\n",
        "    - 8 hidden layers with skip connections - 44.44%\n",
        "    - 8 hidden layers with batch normalization - 58.33%\n",
        "    - 12 hidden layers - 52.78%\n",
        "\n",
        "    \n",
        "\n",
        "\n",
        "\n"
      ],
      "metadata": {
        "id": "UsSYXSdzZ3he"
      }
    }
  ]
}